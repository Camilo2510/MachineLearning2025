{
  "nbformat": 4,
  "nbformat_minor": 0,
  "metadata": {
    "colab": {
      "provenance": []
    },
    "kernelspec": {
      "name": "python3",
      "display_name": "Python 3"
    },
    "language_info": {
      "name": "python"
    }
  },
  "cells": [
    {
      "cell_type": "markdown",
      "source": [
        "Juan Camilo Galindo Moreno\n",
        "\n",
        "Metodos Predictivos\n",
        "\n",
        "Universidad Sergio Arboleda\n",
        "\n",
        "2025"
      ],
      "metadata": {
        "id": "hcZJ1lG3kMWZ"
      }
    },
    {
      "cell_type": "code",
      "source": [
        "2+52"
      ],
      "metadata": {
        "colab": {
          "base_uri": "https://localhost:8080/"
        },
        "id": "2RegOijKeo0o",
        "outputId": "a3f9aaf2-bb74-4f37-e485-3c5efbb91a22"
      },
      "execution_count": 2,
      "outputs": [
        {
          "output_type": "execute_result",
          "data": {
            "text/plain": [
              "54"
            ]
          },
          "metadata": {},
          "execution_count": 2
        }
      ]
    },
    {
      "cell_type": "code",
      "source": [
        "print(\"hola mundo\")"
      ],
      "metadata": {
        "colab": {
          "base_uri": "https://localhost:8080/"
        },
        "id": "rmlh4XnIkriv",
        "outputId": "a6e28678-e3c8-41a5-a6a0-c7b98b99230c"
      },
      "execution_count": 4,
      "outputs": [
        {
          "output_type": "stream",
          "name": "stdout",
          "text": [
            "hola mundo\n"
          ]
        }
      ]
    },
    {
      "cell_type": "code",
      "source": [
        "type(\"hola\")"
      ],
      "metadata": {
        "colab": {
          "base_uri": "https://localhost:8080/"
        },
        "id": "DcUiUO_8k0SP",
        "outputId": "57235bb1-68e7-4f87-dcc6-0eb1ca4b66ca"
      },
      "execution_count": 5,
      "outputs": [
        {
          "output_type": "execute_result",
          "data": {
            "text/plain": [
              "str"
            ]
          },
          "metadata": {},
          "execution_count": 5
        }
      ]
    }
  ]
}