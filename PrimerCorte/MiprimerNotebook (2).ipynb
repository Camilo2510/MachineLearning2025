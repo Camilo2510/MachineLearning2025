{
  "nbformat": 4,
  "nbformat_minor": 0,
  "metadata": {
    "colab": {
      "provenance": []
    },
    "kernelspec": {
      "name": "python3",
      "display_name": "Python 3"
    },
    "language_info": {
      "name": "python"
    }
  },
  "cells": [
    {
      "cell_type": "markdown",
      "source": [
        "Juan Camilo Galindo Moreno\n",
        "\n",
        "Metodos Predictivos\n",
        "\n",
        "Universidad Sergio Arboleda\n",
        "\n",
        "2025"
      ],
      "metadata": {
        "id": "hcZJ1lG3kMWZ"
      }
    },
    {
      "cell_type": "code",
      "source": [
        "2+52"
      ],
      "metadata": {
        "colab": {
          "base_uri": "https://localhost:8080/"
        },
        "id": "2RegOijKeo0o",
        "outputId": "a3f9aaf2-bb74-4f37-e485-3c5efbb91a22"
      },
      "execution_count": 2,
      "outputs": [
        {
          "output_type": "execute_result",
          "data": {
            "text/plain": [
              "54"
            ]
          },
          "metadata": {},
          "execution_count": 2
        }
      ]
    },
    {
      "cell_type": "code",
      "source": [
        "print(\"hola mundo\")"
      ],
      "metadata": {
        "colab": {
          "base_uri": "https://localhost:8080/"
        },
        "id": "rmlh4XnIkriv",
        "outputId": "a6e28678-e3c8-41a5-a6a0-c7b98b99230c"
      },
      "execution_count": 4,
      "outputs": [
        {
          "output_type": "stream",
          "name": "stdout",
          "text": [
            "hola mundo\n"
          ]
        }
      ]
    },
    {
      "cell_type": "code",
      "source": [
        "type(\"hola\")"
      ],
      "metadata": {
        "colab": {
          "base_uri": "https://localhost:8080/"
        },
        "id": "DcUiUO_8k0SP",
        "outputId": "57235bb1-68e7-4f87-dcc6-0eb1ca4b66ca"
      },
      "execution_count": 5,
      "outputs": [
        {
          "output_type": "execute_result",
          "data": {
            "text/plain": [
              "str"
            ]
          },
          "metadata": {},
          "execution_count": 5
        }
      ]
    },
    {
      "cell_type": "code",
      "source": [
        "nombre = \"Camilo Galindo\""
      ],
      "metadata": {
        "id": "J08o6PAalc_P"
      },
      "execution_count": 9,
      "outputs": []
    },
    {
      "cell_type": "code",
      "source": [
        "print(nombre)"
      ],
      "metadata": {
        "colab": {
          "base_uri": "https://localhost:8080/"
        },
        "id": "DvBt-Qryljwv",
        "outputId": "0d0b903e-7970-4633-ae3e-b29a4bc21e71"
      },
      "execution_count": 8,
      "outputs": [
        {
          "output_type": "stream",
          "name": "stdout",
          "text": [
            "Camilo Galindo\n"
          ]
        }
      ]
    },
    {
      "cell_type": "code",
      "source": [
        "lista_objetos =[\"hola\",\"1\",\"a\",\"b\",\"c\"]"
      ],
      "metadata": {
        "id": "2SajbVoVl9lX"
      },
      "execution_count": 10,
      "outputs": []
    },
    {
      "cell_type": "code",
      "source": [
        "lista_objetos[3]"
      ],
      "metadata": {
        "colab": {
          "base_uri": "https://localhost:8080/",
          "height": 35
        },
        "id": "3-jJQHmAmJo3",
        "outputId": "f30682e2-0eb2-456c-8759-78b74548129e"
      },
      "execution_count": 11,
      "outputs": [
        {
          "output_type": "execute_result",
          "data": {
            "text/plain": [
              "'b'"
            ],
            "application/vnd.google.colaboratory.intrinsic+json": {
              "type": "string"
            }
          },
          "metadata": {},
          "execution_count": 11
        }
      ]
    },
    {
      "cell_type": "code",
      "source": [
        "frase = \"Anita lava la tina\""
      ],
      "metadata": {
        "id": "YbfaSnt2mZ0H"
      },
      "execution_count": 12,
      "outputs": []
    },
    {
      "cell_type": "code",
      "source": [
        "frase[0:5]"
      ],
      "metadata": {
        "colab": {
          "base_uri": "https://localhost:8080/",
          "height": 35
        },
        "id": "1wMtJiwUmfun",
        "outputId": "072afe53-5a3d-47cd-8f6c-b90c3b6ef04c"
      },
      "execution_count": 15,
      "outputs": [
        {
          "output_type": "execute_result",
          "data": {
            "text/plain": [
              "'Anita'"
            ],
            "application/vnd.google.colaboratory.intrinsic+json": {
              "type": "string"
            }
          },
          "metadata": {},
          "execution_count": 15
        }
      ]
    },
    {
      "cell_type": "code",
      "source": [
        "apellido = \"moreno\""
      ],
      "metadata": {
        "id": "KozePofRnw8P"
      },
      "execution_count": 17,
      "outputs": []
    },
    {
      "cell_type": "code",
      "source": [
        "nombre+\" \"+apellido"
      ],
      "metadata": {
        "colab": {
          "base_uri": "https://localhost:8080/",
          "height": 35
        },
        "id": "QhIS4NsHn7n3",
        "outputId": "3e785552-6559-4dfe-9a35-f944e0903f86"
      },
      "execution_count": 18,
      "outputs": [
        {
          "output_type": "execute_result",
          "data": {
            "text/plain": [
              "'Camilo Galindo moreno'"
            ],
            "application/vnd.google.colaboratory.intrinsic+json": {
              "type": "string"
            }
          },
          "metadata": {},
          "execution_count": 18
        }
      ]
    }
  ]
}