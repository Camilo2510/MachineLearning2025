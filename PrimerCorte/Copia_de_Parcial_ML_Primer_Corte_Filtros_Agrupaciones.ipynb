{
  "cells": [
    {
      "cell_type": "markdown",
      "id": "0d026f17",
      "metadata": {
        "id": "0d026f17"
      },
      "source": [
        "# Parcial 1 · Machine Learning (Primer Corte)\n",
        "**Formato:** Notebook de Python (Colab/Jupyter)\n",
        "\n",
        "**Instrucciones**\n",
        "- Responde directamente en las celdas indicadas con *Tu respuesta aquí*.\n",
        "- No borres el enunciado de las preguntas.\n",
        "- No uses gráficos; solo filtros, agrupaciones y cálculos básicos.\n",
        "- Mantén el código y comentarios en **español**.\n",
        "- **Entrega**: sube este `.ipynb` resuelto a la plataforma indicada.\n",
        "\n",
        "**Dataset esperado (`students.csv`)**\n",
        "Columnas: `gender, race/ethnicity, parental level of education, lunch, test preparation course, math score, reading score, writing score`.\n",
        "\n",
        "**Estructura del parcial**\n",
        "- **Sección A — Fundamentos (6 preguntas)**\n",
        "- **Sección B — EDA con filtros y agrupaciones (6 preguntas)**\n",
        "\n",
        "**Puntaje**: 100 puntos (≈ 8.3 por pregunta).\n",
        "\n",
        "---"
      ]
    },
    {
      "cell_type": "code",
      "execution_count": 3,
      "id": "7edbe5e7",
      "metadata": {
        "id": "7edbe5e7",
        "colab": {
          "base_uri": "https://localhost:8080/"
        },
        "outputId": "c590aa78-3a9b-4a6a-c25d-96dd12a02269"
      },
      "outputs": [
        {
          "output_type": "stream",
          "name": "stdout",
          "text": [
            "--2025-09-17 20:55:45--  https://raw.githubusercontent.com/javierherrera1996/lecture_analytics/main/StudentsPerformance.csv\n",
            "Resolving raw.githubusercontent.com (raw.githubusercontent.com)... 185.199.111.133, 185.199.109.133, 185.199.110.133, ...\n",
            "Connecting to raw.githubusercontent.com (raw.githubusercontent.com)|185.199.111.133|:443... connected.\n",
            "HTTP request sent, awaiting response... 200 OK\n",
            "Length: 72036 (70K) [text/plain]\n",
            "Saving to: ‘StudentsPerformance.csv’\n",
            "\n",
            "\rStudentsPerformance   0%[                    ]       0  --.-KB/s               \rStudentsPerformance 100%[===================>]  70.35K  --.-KB/s    in 0.03s   \n",
            "\n",
            "2025-09-17 20:55:45 (2.73 MB/s) - ‘StudentsPerformance.csv’ saved [72036/72036]\n",
            "\n"
          ]
        }
      ],
      "source": [
        "!wget https://raw.githubusercontent.com/javierherrera1996/lecture_analytics/main/StudentsPerformance.csv"
      ]
    },
    {
      "cell_type": "markdown",
      "id": "cb60e77d",
      "metadata": {
        "id": "cb60e77d"
      },
      "source": [
        "### Dependencias (ejecuta esta celda primero)"
      ]
    },
    {
      "cell_type": "code",
      "execution_count": 1,
      "id": "34635d2a",
      "metadata": {
        "id": "34635d2a"
      },
      "outputs": [],
      "source": [
        "import pandas as pd\n",
        "import numpy as np"
      ]
    },
    {
      "cell_type": "markdown",
      "id": "f8613aea",
      "metadata": {
        "id": "f8613aea"
      },
      "source": [
        "## Carga del dataset\n",
        "Sube un archivo **`students.csv`** (mismo directorio del notebook) o ajusta la ruta en la celda. Si no tienes el archivo, puedes **generar una muestra mínima** con la celda opcional.\n"
      ]
    },
    {
      "cell_type": "code",
      "execution_count": 4,
      "id": "06f6c5f4",
      "metadata": {
        "id": "06f6c5f4"
      },
      "outputs": [],
      "source": [
        "df = pd.read_csv(\"StudentsPerformance.csv\")"
      ]
    },
    {
      "cell_type": "markdown",
      "id": "93ebf254",
      "metadata": {
        "id": "93ebf254"
      },
      "source": [
        "#### (Opcional) Generar una muestra mínima si no tienes el CSV"
      ]
    },
    {
      "cell_type": "code",
      "execution_count": null,
      "id": "8a77cd91",
      "metadata": {
        "id": "8a77cd91"
      },
      "outputs": [],
      "source": []
    },
    {
      "cell_type": "markdown",
      "id": "b05fd9f0",
      "metadata": {
        "id": "b05fd9f0"
      },
      "source": [
        "## Sección A — Fundamentos de Machine Learning (Conceptual, sin métricas ni gráficos)"
      ]
    },
    {
      "cell_type": "markdown",
      "id": "f84a0d9b",
      "metadata": {
        "id": "f84a0d9b"
      },
      "source": [
        "### A1. Supervisado vs No Supervisado\n",
        "**Describe** con tus palabras la diferencia entre **aprendizaje supervisado** y **no supervisado**. Da **1 ejemplo** de cada uno aplicado a educación o negocios.\n",
        "\n",
        "_Tu respuesta aquí (Markdown):_"
      ]
    },
    {
      "cell_type": "markdown",
      "source": [
        "El **aprendizaje supervisado** implica entrenar un modelo con datos etiquetados, donde se conoce la variable objetivo (dependiente) y se usan datos de entrada (independientes) para predecir resultados. Requiere supervisión humana para guiar el proceso. Ejemplo: En educación, predecir las calificaciones de matemáticas de estudiantes basándose en horas de estudio y asistencia (datos etiquetados).\n",
        "\n",
        "El **aprendizaje no supervisado** trabaja con datos no etiquetados, buscando patrones o agrupaciones sin una variable objetivo predefinida. Ejemplo: En negocios, segmentar clientes en grupos según sus patrones de compra para personalizar marketing, sin saber de antemano las categorías."
      ],
      "metadata": {
        "id": "XYRxeC9cekTm"
      },
      "id": "XYRxeC9cekTm"
    },
    {
      "cell_type": "markdown",
      "id": "075d0640",
      "metadata": {
        "id": "075d0640"
      },
      "source": [
        "### A2. Variable dependiente e independientes\n",
        "Si queremos predecir `math score`, ¿cuál es la **variable dependiente**? Menciona **dos** posibles **variables independientes** justificando por qué.\n",
        "\n",
        "_Tu respuesta aquí (Markdown):_"
      ]
    },
    {
      "cell_type": "markdown",
      "source": [
        "La **variable dependiente** es `math_score`, ya que es la que queremos predecir.\n",
        "\n",
        "Dos posibles **variables independientes** son:\n",
        "- `hours_studied` (horas de estudio): Justificación: Más horas de estudio suelen correlacionarse con mejores puntajes en matemáticas.\n",
        "- `parental_level_of_education` (nivel de educación de los padres): Justificación: Un mayor nivel educativo de los padres puede influir positivamente en el apoyo académico y, por ende, en el `math_score`."
      ],
      "metadata": {
        "id": "ZqoH-f9Weoe9"
      },
      "id": "ZqoH-f9Weoe9"
    },
    {
      "cell_type": "markdown",
      "id": "42cc723f",
      "metadata": {
        "id": "42cc723f"
      },
      "source": [
        "### A3. Clasificación binaria\n",
        "Si clasificamos estudiantes en **Aprobado** (≥ 60) vs **No aprobado**, ¿qué tipo de aprendizaje es? Justifica brevemente.\n",
        "\n",
        "_Tu respuesta aquí (Markdown):_"
      ]
    },
    {
      "cell_type": "markdown",
      "source": [
        "Este es un caso de **aprendizaje supervisado**. Justificación: Se utiliza una variable objetivo predefinida (Aprobado/No aprobado) basada en un umbral (≥ 60), y el modelo se entrena con datos etiquetados para clasificar a los estudiantes."
      ],
      "metadata": {
        "id": "9Lubml-eevMN"
      },
      "id": "9Lubml-eevMN"
    },
    {
      "cell_type": "markdown",
      "id": "bf02bab8",
      "metadata": {
        "id": "bf02bab8"
      },
      "source": [
        "### A4. Casos de negocio (supervisado)\n",
        "Da **dos** ejemplos de problemas de negocio donde usarías aprendizaje **supervisado** y explica por qué.\n",
        "\n",
        "_Tu respuesta aquí (Markdown):_"
      ]
    },
    {
      "cell_type": "markdown",
      "source": [
        "- **Predicción de ventas**: En una empresa, se puede usar aprendizaje supervisado para predecir las ventas futuras basándose en datos históricos de ventas, publicidad y temporadas. Razón: Se tienen datos etiquetados (ventas pasadas) para entrenar el modelo.\n",
        "- **Detección de fraude**: En banca, se puede clasificar transacciones como fraudulentas o legítimas usando datos etiquetados de transacciones previas. Razón: Requiere un objetivo claro (fraude/no fraude) basado en ejemplos etiquetados."
      ],
      "metadata": {
        "id": "sjGukWT3e0MF"
      },
      "id": "sjGukWT3e0MF"
    },
    {
      "cell_type": "markdown",
      "id": "feef5edc",
      "metadata": {
        "id": "feef5edc"
      },
      "source": [
        "### A5. Casos de negocio (no supervisado)\n",
        "Da **dos** ejemplos de problemas de negocio donde usarías aprendizaje **no supervisado** y explica por qué.\n",
        "\n",
        "_Tu respuesta aquí (Markdown):_"
      ]
    },
    {
      "cell_type": "markdown",
      "source": [
        "- **Segmentación de clientes**: En marketing, se puede agrupar a clientes según sus hábitos de compra sin una categoría predefinida. Razón: No hay etiquetas, se busca descubrir patrones ocultos.\n",
        "- **Reducción de dimensionalidad**: En análisis de datos de inventario, se puede reducir variables para simplificar modelos sin una variable objetivo. Razón: Se trabaja con datos no etiquetados para encontrar relaciones."
      ],
      "metadata": {
        "id": "oMD3vXCTe4Gt"
      },
      "id": "oMD3vXCTe4Gt"
    },
    {
      "cell_type": "markdown",
      "id": "33f2b6fd",
      "metadata": {
        "id": "33f2b6fd"
      },
      "source": [
        "### A6. Segmentación por similitud\n",
        "Si quieres segmentar estudiantes por similitud de `reading score` y `writing score`, ¿qué tipo de aprendizaje usarías y por qué?\n",
        "\n",
        "_Tu respuesta aquí (Markdown):_"
      ]
    },
    {
      "cell_type": "markdown",
      "source": [
        "Usaría **aprendizaje no supervisado**. Justificación: No se tiene una variable objetivo predefinida, y el objetivo es agrupar estudiantes basándose en similitudes entre `reading_score` y `writing_score` usando técnicas como clustering (e.g., k-means)."
      ],
      "metadata": {
        "id": "F0o_euObe70G"
      },
      "id": "F0o_euObe70G"
    },
    {
      "cell_type": "markdown",
      "id": "b7f594ed",
      "metadata": {
        "id": "b7f594ed"
      },
      "source": [
        "## Sección B — EDA (solo filtros y agrupaciones, foco de negocio)"
      ]
    },
    {
      "cell_type": "markdown",
      "id": "f60a6103",
      "metadata": {
        "id": "f60a6103"
      },
      "source": [
        "### B7. Promedio de matemáticas por género\n",
        "Calcula el **promedio de `math score` por `gender`**.\n",
        "- ¿Qué género tiene mejor promedio?\n",
        "- **Conclusión de negocio**: en 1–2 líneas, ¿qué harías con esta información?\n",
        "\n",
        "_Escribe tu código y comentarios:_"
      ]
    },
    {
      "cell_type": "code",
      "execution_count": 16,
      "id": "34e84ef6",
      "metadata": {
        "id": "34e84ef6",
        "colab": {
          "base_uri": "https://localhost:8080/"
        },
        "outputId": "f4bef90b-7b8d-49c3-ac5f-295a0e8dfcc9"
      },
      "outputs": [
        {
          "output_type": "stream",
          "name": "stdout",
          "text": [
            "gender\n",
            "male      68.728216\n",
            "female    63.633205\n",
            "Name: math score, dtype: float64\n",
            "El género con mayor promedio es: male\n"
          ]
        }
      ],
      "source": [
        "avg_math_by_gender = df.groupby('gender')['math score'].mean().sort_values(ascending=False)\n",
        "print(avg_math_by_gender)\n",
        "max_gender = avg_math_by_gender.idxmax()\n",
        "print(f\"El género con mayor promedio es: {max_gender}\")"
      ]
    },
    {
      "cell_type": "markdown",
      "id": "5127174e",
      "metadata": {
        "id": "5127174e"
      },
      "source": [
        "### B8. Lectura por grupo étnico\n",
        "Calcula el **promedio de `reading score` por `race/ethnicity`**.\n",
        "- ¿Qué grupo tiene mejor desempeño?\n",
        "- **Aplicación**: ¿cómo usarías esto en un programa de apoyo escolar?\n",
        "\n",
        "_Escribe tu código y comentarios:_"
      ]
    },
    {
      "cell_type": "code",
      "execution_count": 17,
      "id": "7fd591b9",
      "metadata": {
        "id": "7fd591b9",
        "colab": {
          "base_uri": "https://localhost:8080/"
        },
        "outputId": "3431112d-27af-4b6a-b9a5-8d8440375292"
      },
      "outputs": [
        {
          "output_type": "stream",
          "name": "stdout",
          "text": [
            "race/ethnicity\n",
            "group E    73.028571\n",
            "group D    70.030534\n",
            "group C    69.103448\n",
            "group B    67.352632\n",
            "group A    64.674157\n",
            "Name: reading score, dtype: float64\n",
            "El grupo con mejor desempeño es: group E\n"
          ]
        }
      ],
      "source": [
        "avg_reading_by_race = df.groupby('race/ethnicity')['reading score'].mean().sort_values(ascending=False)\n",
        "print(avg_reading_by_race)\n",
        "max_race = avg_reading_by_race.idxmax()\n",
        "print(f\"El grupo con mejor desempeño es: {max_race}\")"
      ]
    },
    {
      "cell_type": "markdown",
      "id": "ec29181f",
      "metadata": {
        "id": "ec29181f"
      },
      "source": [
        "### B9. Impacto del tipo de almuerzo\n",
        "Filtra estudiantes con `lunch = free/reduced` y calcula el **promedio de `math score` y `reading score`**. Compáralo con `lunch = standard`.\n",
        "- **Conclusión de negocio**: ¿qué acción propones?\n",
        "\n",
        "_Escribe tu código y comentarios:_"
      ]
    },
    {
      "cell_type": "code",
      "execution_count": 10,
      "id": "536a926c",
      "metadata": {
        "id": "536a926c",
        "colab": {
          "base_uri": "https://localhost:8080/"
        },
        "outputId": "76565f94-4898-4a8e-9b31-148c6efffba8"
      },
      "outputs": [
        {
          "output_type": "stream",
          "name": "stdout",
          "text": [
            "Promedio free/reduced: math score       58.921127\n",
            "reading score    64.653521\n",
            "dtype: float64\n",
            "Promedio standard: math score       70.034109\n",
            "reading score    71.654264\n",
            "dtype: float64\n"
          ]
        }
      ],
      "source": [
        "free_reduced = df[df['lunch'] == 'free/reduced'].agg({'math score': 'mean', 'reading score': 'mean'})\n",
        "standard = df[df['lunch'] == 'standard'].agg({'math score': 'mean', 'reading score': 'mean'})\n",
        "print(\"Promedio free/reduced:\", free_reduced)\n",
        "print(\"Promedio standard:\", standard)"
      ]
    },
    {
      "cell_type": "markdown",
      "id": "1cc05360",
      "metadata": {
        "id": "1cc05360"
      },
      "source": [
        "### B10. Educación parental y rendimiento\n",
        "Agrupa por `parental level of education` y calcula el **promedio de `math score`**.\n",
        "- ¿Qué nivel se asocia con mejores resultados?\n",
        "- **Acción**: ¿qué intervención o programa harías basado en esto?\n",
        "\n",
        "_Escribe tu código y comentarios:_"
      ]
    },
    {
      "cell_type": "code",
      "execution_count": 18,
      "id": "626c2260",
      "metadata": {
        "id": "626c2260",
        "colab": {
          "base_uri": "https://localhost:8080/"
        },
        "outputId": "9d5f240d-5ec7-4fb1-c27a-71cc998a331b"
      },
      "outputs": [
        {
          "output_type": "stream",
          "name": "stdout",
          "text": [
            "parental level of education\n",
            "master's degree       69.745763\n",
            "bachelor's degree     69.389831\n",
            "associate's degree    67.882883\n",
            "some college          67.128319\n",
            "some high school      63.497207\n",
            "high school           62.137755\n",
            "Name: math score, dtype: float64\n",
            "El nivel con mejores resultados es: master's degree\n"
          ]
        }
      ],
      "source": [
        "avg_math_by_education = df.groupby('parental level of education')['math score'].mean().sort_values(ascending=False)\n",
        "print(avg_math_by_education)\n",
        "max_education = avg_math_by_education.idxmax()\n",
        "print(f\"El nivel con mejores resultados es: {max_education}\")"
      ]
    },
    {
      "cell_type": "markdown",
      "id": "1dd7725d",
      "metadata": {
        "id": "1dd7725d"
      },
      "source": [
        "### B11. Curso de preparación y puntaje\n",
        "Filtra estudiantes que **completaron** `test preparation course` y calcula el **promedio de `math score`**. Compáralo con quienes **no** lo completaron.\n",
        "- **Decisión**: ¿financiarías este curso? Explica.\n",
        "\n",
        "_Escribe tu código y comentarios:_"
      ]
    },
    {
      "cell_type": "code",
      "execution_count": 12,
      "id": "9141333d",
      "metadata": {
        "id": "9141333d",
        "colab": {
          "base_uri": "https://localhost:8080/"
        },
        "outputId": "0b6040ac-2d7e-4d63-c5f2-f92bf2e28c64"
      },
      "outputs": [
        {
          "output_type": "stream",
          "name": "stdout",
          "text": [
            "Promedio con curso: 69.69553072625699\n",
            "Promedio sin curso: 64.0778816199377\n"
          ]
        }
      ],
      "source": [
        "completed = df[df['test preparation course'] == 'completed']['math score'].mean()\n",
        "not_completed = df[df['test preparation course'] == 'none']['math score'].mean()\n",
        "print(f\"Promedio con curso: {completed}\")\n",
        "print(f\"Promedio sin curso: {not_completed}\")"
      ]
    },
    {
      "cell_type": "markdown",
      "id": "aa4a861b",
      "metadata": {
        "id": "aa4a861b"
      },
      "source": [
        "### B12. Doble agrupación (negocio)\n",
        "Crea una **tabla** agrupada por `gender` y `test preparation course` con el **promedio de `writing score`**.\n",
        "- ¿Qué combinación muestra mejores resultados?\n",
        "- **Recomendación**: ¿a quién priorizas para una beca del curso?\n",
        "\n",
        "_Escribe tu código y comentarios:_"
      ]
    },
    {
      "cell_type": "code",
      "execution_count": 15,
      "id": "714de25f",
      "metadata": {
        "id": "714de25f",
        "colab": {
          "base_uri": "https://localhost:8080/"
        },
        "outputId": "475abf98-d217-4ba7-f692-01b70bfbe18c"
      },
      "outputs": [
        {
          "output_type": "stream",
          "name": "stdout",
          "text": [
            "test preparation course  completed       none\n",
            "gender                                       \n",
            "female                   78.793478  68.982036\n",
            "male                     69.793103  59.649351\n",
            "La mejor combinación es: female\n"
          ]
        }
      ],
      "source": [
        "avg_writing_by_gender_course = df.groupby(['gender', 'test preparation course'])['writing score'].mean().unstack()\n",
        "result = avg_writing_by_gender_course.sort_values(by='completed', ascending=False)\n",
        "print(result)\n",
        "best_combo = result['completed'].idxmax()\n",
        "print(f\"La mejor combinación es: {best_combo}\")"
      ]
    }
  ],
  "metadata": {
    "kernelspec": {
      "display_name": "Python 3",
      "language": "python",
      "name": "python3"
    },
    "language_info": {
      "name": "python",
      "version": "3.x"
    },
    "colab": {
      "provenance": []
    }
  },
  "nbformat": 4,
  "nbformat_minor": 5
}